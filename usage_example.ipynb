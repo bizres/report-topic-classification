{
 "cells": [
  {
   "cell_type": "markdown",
   "metadata": {},
   "source": [
    "# Setup"
   ]
  },
  {
   "cell_type": "markdown",
   "metadata": {},
   "source": [
    "To load a pdf and extract it's text we will use some helper functions from the text_transformation_tools module"
   ]
  },
  {
   "cell_type": "code",
   "execution_count": 1,
   "metadata": {},
   "outputs": [],
   "source": [
    "import text_transformation_tools as ttf"
   ]
  },
  {
   "cell_type": "markdown",
   "metadata": {},
   "source": [
    "# Import Sustainability Report"
   ]
  },
  {
   "cell_type": "markdown",
   "metadata": {},
   "source": [
    "We import an exemplary sustainability report and read out some metadata and extract the text as string."
   ]
  },
  {
   "cell_type": "code",
   "execution_count": 2,
   "metadata": {},
   "outputs": [
    {
     "name": "stdout",
     "output_type": "stream",
     "text": [
      "Report was last modified in 2021-03-09 00:00:00 and has language \"('en', -396506.95990228653)\"\n",
      "\n",
      "First 500 characters of the report's content are: \n",
      " SUSTAINABILITY REPORT FY20\n",
      "\n",
      "We want to make sustainability pervasive across all our activities and a reflection of our culture. We are reimagining how we source, manufacture, distribute and recycle, to positively improve the carbon, toxicity, circularity and social impact of our operations.\n",
      "Introduction\n",
      "Products and the environment\n",
      "People and society\n",
      "About this report\n",
      "CONTENTS\n",
      "INTRODUCTION\n",
      "06 Statement from Bracken Darrell 08 FY20 Highlights 10 Company Structure 12 Logitech in Figures 14 Sustain\n"
     ]
    }
   ],
   "source": [
    "path_to_pdf = 'example_data/example_report.pdf'\n",
    "\n",
    "last_modified = ttf.get_pdf_last_modified(path_to_pdf)\n",
    "pdf_text = ttf.pdf_to_text(path_to_pdf)\n",
    "language = ttf.detect_language(pdf_text)\n",
    "\n",
    "print('Report was last modified in {} and has language \\\"{}\\\"'.format(last_modified, language))\n",
    "print()\n",
    "print('First 500 characters of the report\\'s content are: \\n {}'.format(pdf_text[:500]))"
   ]
  },
  {
   "cell_type": "markdown",
   "metadata": {},
   "source": [
    "Finally we put the text into a pandas DataFrame"
   ]
  },
  {
   "cell_type": "code",
   "execution_count": 3,
   "metadata": {},
   "outputs": [
    {
     "name": "stdout",
     "output_type": "stream",
     "text": [
      "Number of sections: 3083\n",
      "\n",
      "First 10 sections:\n",
      "   page  section_index                                       section_text\n",
      "0     1              0                         SUSTAINABILITY REPORT FY20\n",
      "1     2              1  We want to make sustainability pervasive acros...\n",
      "2     2              2                                       Introduction\n",
      "3     2              3                       Products and the environment\n",
      "4     2              4                                 People and society\n",
      "5     2              5                                  About this report\n",
      "6     2              6                                           CONTENTS\n",
      "7     2              7                                       INTRODUCTION\n",
      "8     2              8  06 Statement from Bracken Darrell 08 FY20 High...\n",
      "9     2              9                         PRODUCTS & THE ENVIRONMENT\n"
     ]
    }
   ],
   "source": [
    "df_sections = ttf.pdf_text_to_sections(pdf_text)\n",
    "print('Number of sections: {}'.format(len(df_sections)))\n",
    "print()\n",
    "print('First 10 sections:')\n",
    "print(df_sections.head(10))"
   ]
  },
  {
   "cell_type": "markdown",
   "metadata": {},
   "source": [
    "# Load Topics"
   ]
  },
  {
   "cell_type": "markdown",
   "metadata": {},
   "source": [
    "To detect topics we use the KeywordDetector class. Upon instantiation we need to specify which language the instance should support. The language is used for text processing and cleansing.\n",
    "\n",
    "> To provide the class with topics to detect, we use the load_topics function. The function requires a list of Wikipedia articles to process. Each Wikipedia article is considered a topic. The content of the article is downloaded and processed. Using tf-idf representative keywords are extracted.\n",
    "\n",
    "In this example we load five articles. They are specified in the file wiki_topics_reduced.csv. For the project businessresponsibility.ch we loaded 66 topics. The 66 topics are specified in the file wiki_topics_prototype_fund.csv"
   ]
  },
  {
   "cell_type": "code",
   "execution_count": 1,
   "metadata": {},
   "outputs": [],
   "source": [
    "from keyword_detector import KeywordDetector\n",
    "import pandas as pd\n",
    "\n",
    "kw_detector = KeywordDetector(lang='en')\n",
    "df_topics = pd.read_csv('example_data/wiki_topics_reduced.csv', sep=';')\n",
    "\n",
    "kw_detector.load_topics(df_topics['topic'], df_topics['topic'], min_words = 500, min_tf_idf_=0.08, min_keywords_=2, max_keywords_=10, max_df_=0.8)"
   ]
  },
  {
   "cell_type": "markdown",
   "metadata": {},
   "source": [
    "We can now look at the topics and the keywords generated for these topics."
   ]
  },
  {
   "cell_type": "code",
   "execution_count": null,
   "metadata": {},
   "outputs": [
    {
     "name": "stdout",
     "output_type": "stream",
     "text": [
      "Topic: Human rights\n",
      "Keywords: human rights, natural law, civil political, economic social, political right, universal declaration, cultural right, social cultural, declaration human, natural right\n",
      "******************\n",
      "Topic: Climate change\n",
      "Keywords: climate change, greenhouse gas, global warming, fossil fuel, level rise, co2 emission, sea level, gas emission\n",
      "******************\n",
      "Topic: Social inequality\n",
      "Keywords: social inequality, health care, social status, social class, income inequality, income wealth, doi 10, economic growth, health inequality, gini coefficient\n",
      "******************\n",
      "Topic: Labor rights\n",
      "Keywords: labor right, child labor, labor movement, working condition, labor union, worker right, undocumented worker, minimum wage, core labor\n",
      "******************\n"
     ]
    }
   ],
   "source": [
    "topics = kw_detector.get_topics()\n",
    "keyword_list = kw_detector.get_topic_keywords()\n",
    "\n",
    "for i in range(len(topics)):\n",
    "    print('Topic: {}'.format(topics[i]))\n",
    "    print('Keywords: {}'.format(', '.join(keyword_list[i])))\n",
    "    print('******************')"
   ]
  },
  {
   "cell_type": "markdown",
   "metadata": {},
   "source": [
    "# Detect Topics in Report"
   ]
  },
  {
   "cell_type": "markdown",
   "metadata": {},
   "source": [
    "To process a report we now use the detect_keywords function.\n",
    "\n",
    "> The function detect_keywords requires a pandas DataFrame with the texts to process. For each topic a new column is generated. The columns indicate how many unique keywords the respective text contains per topic."
   ]
  },
  {
   "cell_type": "code",
   "execution_count": null,
   "metadata": {},
   "outputs": [
    {
     "data": {
      "text/html": [
       "<div>\n",
       "<style scoped>\n",
       "    .dataframe tbody tr th:only-of-type {\n",
       "        vertical-align: middle;\n",
       "    }\n",
       "\n",
       "    .dataframe tbody tr th {\n",
       "        vertical-align: top;\n",
       "    }\n",
       "\n",
       "    .dataframe thead th {\n",
       "        text-align: right;\n",
       "    }\n",
       "</style>\n",
       "<table border=\"1\" class=\"dataframe\">\n",
       "  <thead>\n",
       "    <tr style=\"text-align: right;\">\n",
       "      <th></th>\n",
       "      <th>page</th>\n",
       "      <th>section_index</th>\n",
       "      <th>section_text</th>\n",
       "      <th>cleansed_text</th>\n",
       "      <th>Human rights</th>\n",
       "      <th>Climate change</th>\n",
       "      <th>Social inequality</th>\n",
       "      <th>Labor rights</th>\n",
       "    </tr>\n",
       "  </thead>\n",
       "  <tbody>\n",
       "    <tr>\n",
       "      <th>0</th>\n",
       "      <td>1</td>\n",
       "      <td>0</td>\n",
       "      <td>SUSTAINABILITY REPORT FY20</td>\n",
       "      <td></td>\n",
       "      <td>0.0</td>\n",
       "      <td>0.0</td>\n",
       "      <td>0.0</td>\n",
       "      <td>0.0</td>\n",
       "    </tr>\n",
       "    <tr>\n",
       "      <th>1</th>\n",
       "      <td>2</td>\n",
       "      <td>1</td>\n",
       "      <td>We want to make sustainability pervasive acros...</td>\n",
       "      <td>want sustainability pervasive activity reflect...</td>\n",
       "      <td>0.0</td>\n",
       "      <td>0.0</td>\n",
       "      <td>0.0</td>\n",
       "      <td>0.0</td>\n",
       "    </tr>\n",
       "    <tr>\n",
       "      <th>2</th>\n",
       "      <td>2</td>\n",
       "      <td>2</td>\n",
       "      <td>Introduction</td>\n",
       "      <td></td>\n",
       "      <td>0.0</td>\n",
       "      <td>0.0</td>\n",
       "      <td>0.0</td>\n",
       "      <td>0.0</td>\n",
       "    </tr>\n",
       "    <tr>\n",
       "      <th>3</th>\n",
       "      <td>2</td>\n",
       "      <td>3</td>\n",
       "      <td>Products and the environment</td>\n",
       "      <td></td>\n",
       "      <td>0.0</td>\n",
       "      <td>0.0</td>\n",
       "      <td>0.0</td>\n",
       "      <td>0.0</td>\n",
       "    </tr>\n",
       "    <tr>\n",
       "      <th>4</th>\n",
       "      <td>2</td>\n",
       "      <td>4</td>\n",
       "      <td>People and society</td>\n",
       "      <td></td>\n",
       "      <td>0.0</td>\n",
       "      <td>0.0</td>\n",
       "      <td>0.0</td>\n",
       "      <td>0.0</td>\n",
       "    </tr>\n",
       "    <tr>\n",
       "      <th>5</th>\n",
       "      <td>2</td>\n",
       "      <td>5</td>\n",
       "      <td>About this report</td>\n",
       "      <td></td>\n",
       "      <td>0.0</td>\n",
       "      <td>0.0</td>\n",
       "      <td>0.0</td>\n",
       "      <td>0.0</td>\n",
       "    </tr>\n",
       "    <tr>\n",
       "      <th>6</th>\n",
       "      <td>2</td>\n",
       "      <td>6</td>\n",
       "      <td>CONTENTS</td>\n",
       "      <td></td>\n",
       "      <td>0.0</td>\n",
       "      <td>0.0</td>\n",
       "      <td>0.0</td>\n",
       "      <td>0.0</td>\n",
       "    </tr>\n",
       "    <tr>\n",
       "      <th>7</th>\n",
       "      <td>2</td>\n",
       "      <td>7</td>\n",
       "      <td>INTRODUCTION</td>\n",
       "      <td></td>\n",
       "      <td>0.0</td>\n",
       "      <td>0.0</td>\n",
       "      <td>0.0</td>\n",
       "      <td>0.0</td>\n",
       "    </tr>\n",
       "    <tr>\n",
       "      <th>8</th>\n",
       "      <td>2</td>\n",
       "      <td>8</td>\n",
       "      <td>06 Statement from Bracken Darrell 08 FY20 High...</td>\n",
       "      <td>statement bracken darrell fy20 highlights comp...</td>\n",
       "      <td>0.0</td>\n",
       "      <td>0.0</td>\n",
       "      <td>0.0</td>\n",
       "      <td>0.0</td>\n",
       "    </tr>\n",
       "    <tr>\n",
       "      <th>9</th>\n",
       "      <td>2</td>\n",
       "      <td>9</td>\n",
       "      <td>PRODUCTS &amp; THE ENVIRONMENT</td>\n",
       "      <td></td>\n",
       "      <td>0.0</td>\n",
       "      <td>0.0</td>\n",
       "      <td>0.0</td>\n",
       "      <td>0.0</td>\n",
       "    </tr>\n",
       "  </tbody>\n",
       "</table>\n",
       "</div>"
      ],
      "text/plain": [
       "   page  section_index                                       section_text  \\\n",
       "0     1              0                         SUSTAINABILITY REPORT FY20   \n",
       "1     2              1  We want to make sustainability pervasive acros...   \n",
       "2     2              2                                       Introduction   \n",
       "3     2              3                       Products and the environment   \n",
       "4     2              4                                 People and society   \n",
       "5     2              5                                  About this report   \n",
       "6     2              6                                           CONTENTS   \n",
       "7     2              7                                       INTRODUCTION   \n",
       "8     2              8  06 Statement from Bracken Darrell 08 FY20 High...   \n",
       "9     2              9                         PRODUCTS & THE ENVIRONMENT   \n",
       "\n",
       "                                       cleansed_text  Human rights  \\\n",
       "0                                                              0.0   \n",
       "1  want sustainability pervasive activity reflect...           0.0   \n",
       "2                                                              0.0   \n",
       "3                                                              0.0   \n",
       "4                                                              0.0   \n",
       "5                                                              0.0   \n",
       "6                                                              0.0   \n",
       "7                                                              0.0   \n",
       "8  statement bracken darrell fy20 highlights comp...           0.0   \n",
       "9                                                              0.0   \n",
       "\n",
       "   Climate change  Social inequality  Labor rights  \n",
       "0             0.0                0.0           0.0  \n",
       "1             0.0                0.0           0.0  \n",
       "2             0.0                0.0           0.0  \n",
       "3             0.0                0.0           0.0  \n",
       "4             0.0                0.0           0.0  \n",
       "5             0.0                0.0           0.0  \n",
       "6             0.0                0.0           0.0  \n",
       "7             0.0                0.0           0.0  \n",
       "8             0.0                0.0           0.0  \n",
       "9             0.0                0.0           0.0  "
      ]
     },
     "execution_count": 17,
     "metadata": {},
     "output_type": "execute_result"
    }
   ],
   "source": [
    "df_section_topics = kw_detector.detect_keywords(df_sections, 'section_text', 120)\n",
    "df_section_topics.head(10)"
   ]
  },
  {
   "cell_type": "markdown",
   "metadata": {},
   "source": [
    "# Analysis"
   ]
  },
  {
   "cell_type": "markdown",
   "metadata": {},
   "source": [
    "In this example we look at all sections of the report which contain at leas two unique keywords for the topic \"Human rights\".\n",
    "\n",
    "For the project businessresponsibility.ch we used 66 topics for 5 categories (Human Rights, Environment, Corruption, Social Issues, Employee Concerns). If a sustainability report contained at least one topic of a category, the report was considered to report about the category. In this way we processe over 1'000 reports and created indicators about what companies report on sustainability issues.\n",
    "\n",
    "If you want to know more about the project or the code, visit businessresponsitility.ch, bizres.ch or contact us through GitHub or other means."
   ]
  },
  {
   "cell_type": "code",
   "execution_count": null,
   "metadata": {},
   "outputs": [
    {
     "name": "stdout",
     "output_type": "stream",
     "text": [
      "(P. 22) Universal Declaration of Human Rights, ILO International Labour Standards, OECD Guidelines for Multinational Enterprises, OHSAS 18001, ISO 14001 and SA8000.\n",
      "******************\n",
      "(P. 81) The RBA Code of Conduct is our framework for the management of human rights and labor at our production facility. The RBA Code is aligned with international norms and standards including the Universal Declaration of Human Rights, ILO International Labor Standards, OECD Guidelines for Multinational Enterprises, ISO and SA standards.\n",
      "******************\n",
      "(P. 84) As a small company, playing in a global market, we recognize the value of collaboration. We joined the Responsible Business Alliance (RBA) in 2007, to collaborate with industry peers and competitors alike and develop tools and programs addressing the sustainability challenges facing our sector today. The RBA has an established Code of Conduct (“the RBA Code”), which is reflective of international norms and good practice, including the Universal Declaration of Human Rights, ILO International Labour Standards, OECD Guidelines for Multinational Enterprises, ISO 45001, ISO 14001 and SA8000. We have adopted the RBA Code in full, as indicated in our RBA Code Commitment Statement. It is fully reflected in our internal policy framework and is our framework for supplier management.\n",
      "******************\n"
     ]
    }
   ],
   "source": [
    "num_unique_keywords = 2\n",
    "sections = df_section_topics[df_section_topics['Human rights'] >= num_unique_keywords]\n",
    "\n",
    "for idx, row in sections.iterrows():\n",
    "    page = row['page']\n",
    "    text = row['section_text']\n",
    "\n",
    "    print('(P. {}) {}'.format(page, text))\n",
    "    print('******************')"
   ]
  }
 ],
 "metadata": {
  "kernelspec": {
   "display_name": "Python 3 (ipykernel)",
   "language": "python",
   "name": "python3"
  },
  "language_info": {
   "codemirror_mode": {
    "name": "ipython",
    "version": 3
   },
   "file_extension": ".py",
   "mimetype": "text/x-python",
   "name": "python",
   "nbconvert_exporter": "python",
   "pygments_lexer": "ipython3",
   "version": "3.10.1"
  }
 },
 "nbformat": 4,
 "nbformat_minor": 4
}
